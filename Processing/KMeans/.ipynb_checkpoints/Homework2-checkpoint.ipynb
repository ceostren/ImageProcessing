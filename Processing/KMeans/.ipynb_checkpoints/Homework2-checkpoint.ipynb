{
 "cells": [
  {
   "cell_type": "markdown",
   "metadata": {},
   "source": [
    "# JUPYTER NOTEBOOK FOR HOMEWORK 2\n",
    "Segment the foreground from one image and transfer it to another image"
   ]
  },
  {
   "cell_type": "code",
   "execution_count": 13,
   "metadata": {},
   "outputs": [],
   "source": [
    "import numpy as np\n",
    "import skimage\n",
    "from skimage.transform import resize\n",
    "import matplotlib.pyplot as plt \n",
    "\n",
    "from makeLMfilters import makeLMfilters\n"
   ]
  },
  {
   "cell_type": "code",
   "execution_count": null,
   "metadata": {},
   "outputs": [],
   "source": [
    "\n",
    "#Convert the image to grayscale\n",
    "\n",
    "\n",
    "#   Define a function segmentImg which takes in an image and returns the foreground labels\n",
    "#   The arguments to segmentImg are imgFilename\n",
    "#   and k (the number of clusters)\n",
    "def segmentImg(imgFilename, k):\n",
    "    #1. Load and display the image from which you want to segment the foreground from the background\n",
    "    #  Make sure to convert your image to grayscale after loading\n",
    "    '****Put your code here.'\n",
    "    \n",
    "    #2. Create an overcomplete bank of filters F (make sure you check the dimensions of the returned array)\n",
    "    #\n",
    "    '****Put your code here.'\n",
    "\n",
    "    #3. Convolve the input image with every filter in the bank of filters \n",
    "    #   to get a response array \n",
    "    #\n",
    "    '****Put your code here.'\n",
    "    \n",
    "    #4.Take the absolute values of the responses and \n",
    "    #  reshape the reponse tensor into a matrix of size [row*cols, num_filters]\n",
    "    '****Put your code here.'\n",
    "    \n",
    "    #5. Run k-means on the vectorized reponses X to get a vector of labels (the clusters); \n",
    "    #  \n",
    "    '****Put your code here.'\n",
    "    \n",
    "    #6. Reshape the label results of k-means so that it has the same size as the input image\n",
    "    #   Return the label image which we call idx\n",
    "    \n",
    "    \n",
    "    print('***Segmentation done***')\n",
    "    return idx\n",
    "\n"
   ]
  },
  {
   "cell_type": "code",
   "execution_count": 12,
   "metadata": {},
   "outputs": [],
   "source": [
    "\"\"\"\n",
    "You are now given a second function tansferImg with the arguments:\n",
    "    fgs: foreground label ids from clustering\n",
    "    idxImg: the reshaped indexed image also from clustering\n",
    "    sImgFilename: source image (a color image to pick pixels from)\n",
    "    tImgFilename: target image (also a color image to transfer pixels to)\n",
    "    This function is customized to work for the images provided for the homework\n",
    "\"\"\"\n",
    "def transferImg(fgs, idxImg, sImgFilename, tImgFilename):\n",
    "\n",
    "    # Read the images, estimate their dimensions\n",
    "    sImg = skimage.io.imread(sImgFilename)\n",
    "    tImg = skimage.io.imread(tImgFilename)\n",
    "    rows, cols, clrs = sImg.shape\n",
    "\n",
    "    # Crop the source and indexed images\n",
    "    idxImg = idxImg[25:rows-25, 25:cols-25]\n",
    "    sImg = sImg[25:rows-25, 25:cols-25]\n",
    "    rows, cols, clrs = sImg.shape\n",
    "    \n",
    "    # Resize them by so they fit in target file, tImg\n",
    "    idxImg = 255*resize(idxImg,(int(idxImg.shape[0]/1.5), int(idxImg.shape[1]/1.5)),anti_aliasing=True)\n",
    "    idxImg = idxImg.astype(np.uint8)\n",
    "    sImg = 255*resize(sImg, (int(sImg.shape[0]/1.5), int(sImg.shape[1]/1.5)), anti_aliasing=True)\n",
    "    sImg = sImg.astype(np.uint8)\n",
    "    rows, cols, clrs = sImg.shape\n",
    "    \n",
    "    # Transfer idx onto tImg\n",
    "    for i in range(rows): \n",
    "        for j in range(cols):\n",
    "            if idxImg[i,j] in fgs:\n",
    "                # Coordinate offsets from boundary\n",
    "                iOff = i+200\n",
    "                jOff = j+100 \n",
    "                tImg[iOff,jOff,0] = sImg[i,j,0]\n",
    "                tImg[iOff,jOff,1] = sImg[i,j,1]\n",
    "                tImg[iOff,jOff,2] = sImg[i,j,2]\n",
    "\n",
    "    print('***transfer done')\n",
    "    plt.imshow(tImg)\n",
    "    plt.show()\n",
    "    return tImg\n"
   ]
  },
  {
   "cell_type": "code",
   "execution_count": null,
   "metadata": {},
   "outputs": [],
   "source": [
    "#7. Test your segmentation function with an image file and # of clusters, k\n",
    "# Below is an example of how to call the transfer function\n",
    "#\n",
    "idx = segmentImg('images/dog.jpg', 9)\n",
    "# Insert only the numbers that correspond to the foreground labels in the transferImg function\n",
    "trImg = transferImg([1,2,3,4,5,6,7], idx, 'images/dog.jpg', 'images/bg3.jpg')"
   ]
  },
  {
   "cell_type": "code",
   "execution_count": null,
   "metadata": {},
   "outputs": [],
   "source": [
    "#8. Write a new function segmentImgClr with the same arguments as segmentImg\n",
    "#   But this time, instead of features based on filter responses, just use color\n",
    "#   Try different colorspaces\n",
    "def segmentImgClr(imgFilename, k):\n",
    "    '****Put your code here.'\n",
    "\n",
    "    \n",
    "    print('***Segmentation done***')\n",
    "    return idx\n"
   ]
  },
  {
   "cell_type": "code",
   "execution_count": null,
   "metadata": {},
   "outputs": [],
   "source": [
    "#9. Again test your new color-based segmentation function\n",
    "#   The same transferImg function should work here also.\n",
    "idx = segmentImgClr('images/dog.jpg', 9)\n",
    "trImg = transferImg([0,2,3], idx, 'images/dog.jpg', 'images/bg.jpg')#with HSV"
   ]
  },
  {
   "cell_type": "code",
   "execution_count": null,
   "metadata": {},
   "outputs": [],
   "source": [
    "#10 Test with a different colorspace\n",
    "idx = segmentImgClr('images/dog.jpg', 7)\n",
    "trImg = transferImg([0,1,2,3], idx, 'images/dog.jpg', 'images/bg.jpg')#with RGB"
   ]
  },
  {
   "cell_type": "code",
   "execution_count": null,
   "metadata": {},
   "outputs": [],
   "source": []
  }
 ],
 "metadata": {
  "kernelspec": {
   "display_name": "Python 3",
   "language": "python",
   "name": "python3"
  },
  "language_info": {
   "codemirror_mode": {
    "name": "ipython",
    "version": 3
   },
   "file_extension": ".py",
   "mimetype": "text/x-python",
   "name": "python",
   "nbconvert_exporter": "python",
   "pygments_lexer": "ipython3",
   "version": "3.7.3"
  }
 },
 "nbformat": 4,
 "nbformat_minor": 2
}
